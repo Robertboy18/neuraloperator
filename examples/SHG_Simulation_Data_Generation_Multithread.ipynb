{
 "cells": [
  {
   "cell_type": "code",
   "execution_count": 1,
   "metadata": {},
   "outputs": [],
   "source": [
    "import numpy as np\n",
    "import pandas as pd\n",
    "from numpy.fft import fft, ifft, fftshift, fftfreq, rfft\n",
    "import matplotlib.pyplot as plt\n",
    "from matplotlib import cm\n",
    "import colorcet as cc\n",
    "import concurrent.futures\n",
    "\n",
    "#This are my libraries\n",
    "import snow.nlo as nlo \n",
    "import snow.pulses as pulses\n",
    "import snow.waveguides as waveguides\n",
    "import snow.opos as opos\n",
    "import snow.util as util\n",
    "import snow.materials as materials\n",
    "\n",
    "#Larger font for plots\n",
    "plt.rcParams.update({'font.size': 18})\n",
    "\n",
    "from scipy.constants import pi, c, epsilon_0, h\n",
    "hplanck = h\n",
    "pm = 1e-12\n",
    "nm = 1e-9\n",
    "um = 1e-6\n",
    "mm = 1e-3\n",
    "ns = 1e-9\n",
    "ps = 1e-12\n",
    "fs = 1e-15\n",
    "MHz = 1e6\n",
    "GHz = 1e9\n",
    "THz = 1e12\n",
    "pJ = 1e-12\n",
    "fJ = 1e-15\n",
    "mW = 1e-3\n",
    "uW = 1e-6\n",
    "nW = 1e-9"
   ]
  },
  {
   "cell_type": "markdown",
   "metadata": {},
   "source": [
    "## Time and Frequency domain windows"
   ]
  },
  {
   "cell_type": "code",
   "execution_count": 2,
   "metadata": {},
   "outputs": [
    {
     "name": "stdout",
     "output_type": "stream",
     "text": [
      "Time window size = 2.571 ps\n",
      "3.150537634408602\n"
     ]
    }
   ],
   "source": [
    "#Let's set the bandwdith\n",
    "λ_start = 350*nm\n",
    "λ_stop = 5*um\n",
    "f_max = c/λ_start\n",
    "f_min = c/λ_stop\n",
    "BW = f_max - f_min\n",
    "\n",
    "N = 2**11 #I usually pick this one to be a power of 2 but that's not strictly necessary\n",
    "\n",
    "T = N/BW #Time window size\n",
    "Δt = 1/BW #Time resolution\n",
    "t_start = -T/2 #Start of time window\n",
    "#These are the time and frequency vectors \n",
    "t = t_start + np.arange(0, T, step=Δt)\n",
    "f = fftfreq(N, Δt)\n",
    "Δf = f[1] - f[0]\n",
    "\n",
    "f_ref = (f_max + f_min)/2  #This variable will be supplied to several plotting functions\n",
    "λ_ref = c/f_ref\n",
    "f_ref = round(f_ref/Δf) * Δf\n",
    "f_abs = f + f_ref #This is the absolute frequency vector\n",
    "λ = c/f_abs #This is the wavelength vector\n",
    "\n",
    "print('Time window size = %0.3f ps' %(T/ps))\n",
    "print((3*f_max - f_min)/BW) #Try to keep it below 4\n",
    "\n",
    "\n",
    "λ1 = 1.045*um # SH wavelength\n",
    "f1 = c/λ1 # SH frequency\n",
    "f2 = 1/2*f1 # Fundamental frequency\n",
    "λ2 = c/f2 # Fundamental wavelength"
   ]
  },
  {
   "cell_type": "markdown",
   "metadata": {},
   "source": [
    "## Waveguide properties"
   ]
  },
  {
   "cell_type": "code",
   "execution_count": 100,
   "metadata": {
    "scrolled": true
   },
   "outputs": [
    {
     "name": "stdout",
     "output_type": "stream",
     "text": [
      "Refractive index at pump = 2.057\n",
      "Refractive index at signal = 1.854\n",
      "Poling period for second harmonic generation = 5.1557 um\n",
      "GVM between 2090.0 nm and 1045.0 nm = 1.3097 fs/mm\n",
      "GVD at 1045.0 nm = 119.6 fs^2/mm\n",
      "GVD at 2090.0 nm = 22.3 fs^2/mm\n"
     ]
    },
    {
     "data": {
      "image/png": "[encoded data removed]",
      "text/plain": [
       "<Figure size 576x288 with 1 Axes>"
      ]
     },
     "metadata": {
      "needs_background": "light"
     },
     "output_type": "display_data"
    }
   ],
   "source": [
    "width = 1800*nm\n",
    "hLN = 700*nm\n",
    "hetch = 370*nm\n",
    "wg = waveguides.waveguide(w_top=width, h_thinfilm=hLN, h_etch=hetch, tf_material = 'LN_MgO_e_T',\n",
    "                         box_material = 'SiO2',  clad_material = 'Air')\n",
    "\n",
    "T = 25\n",
    "\n",
    "n = wg.neff(λ, T=T ) #This calculates the refractive index at all wavelengths\n",
    "n1 = wg.neff( λ1, T=T )\n",
    "n2 = wg.neff( λ2, T=T )\n",
    "\n",
    "fig, ax1 = plt.subplots(figsize=(8,4), tight_layout=True)\n",
    "ax1.plot(fftshift(λ/um), fftshift(n))\n",
    "ax1.scatter( λ1/um, n1, c='r')\n",
    "ax1.scatter( λ2/um, n2, c='r')\n",
    "ax1.set_xlabel('Wavelength (um)')\n",
    "ax1.set_ylabel('Refractive index')\n",
    "ax1.set_title('Waveguide Effective Index')\n",
    "ax1.grid(True)\n",
    "\n",
    "print('Refractive index at pump = %0.3f' %(n1))\n",
    "print('Refractive index at signal = %0.3f' %(n2))\n",
    "\n",
    "pp_shg = 1/(n1/λ1 - 2*n2/λ2)\n",
    "print(\"Poling period for second harmonic generation = %0.4f um\" %(pp_shg/um))\n",
    "\n",
    "gvm_ps = wg.beta1(λ1) - wg.beta1(λ2)\n",
    "print('GVM between %0.1f nm and %0.1f nm = %0.4f fs/mm' %(λ2/nm, λ1/nm, gvm_ps/(fs/mm)) ) \n",
    "\n",
    "gvd_1 = wg.GVD(λ1)\n",
    "gvd_2 = wg.GVD(λ2)\n",
    "print('GVD at %0.1f nm = %0.1f fs^2/mm' %(λ1/nm, gvd_1/(fs**2/mm) ) )\n",
    "print('GVD at %0.1f nm = %0.1f fs^2/mm' %(λ2/nm, gvd_2/(fs**2/mm) ) )"
   ]
  },
  {
   "cell_type": "markdown",
   "metadata": {},
   "source": [
    "## <span style=\"color: red;\">Parameters to vary</span>"
   ]
  },
  {
   "cell_type": "code",
   "execution_count": 101,
   "metadata": {},
   "outputs": [],
   "source": [
    "# (1) Length of the poling region can be varied from ~2 mm to ~15 mm\n",
    "#L_array = np.linspace(2,15,10)*mm\n",
    "L_array = np.linspace(2,15,2)*mm\n",
    "\n",
    "# (2) Poling period mismatch can be varied from ~-50 nm to 50 nm\n",
    "#pp_mismatch_array = np.linspace(-50,50,10)*nm\n",
    "pp_mismatch_array = np.linspace(-50,50,2)*nm\n",
    "\n",
    "# (3) Pulse energy parameter can be varied from few fJ to few 1000s of fJ\n",
    "# We can first start from lower energies\n",
    "#pump_energy_array = np.linspace(5,1000,10)*fJ\n",
    "pump_energy_array = np.linspace(5,1000,2)*fJ"
   ]
  },
  {
   "cell_type": "markdown",
   "metadata": {},
   "source": [
    "## Simulation Loops"
   ]
  },
  {
   "cell_type": "code",
   "execution_count": null,
   "metadata": {},
   "outputs": [
    {
     "name": "stdout",
     "output_type": "stream",
     "text": [
      "finished\n",
      "Total time = 6.8 s\n",
      "Input pulse energy = 0.005 pJ\n",
      "Output pulse energy = 0.005 pJ\n",
      "finished\n",
      "Total time = 6.5 s\n",
      "Input pulse energy = 0.005 pJ\n",
      "Output pulse energy = 0.005 pJ\n"
     ]
    }
   ],
   "source": [
    "# initialize a list to store all rows of data\n",
    "data = np.empty([len(L_array)*len(pp_mismatch_array)*len(pump_energy_array),2*N+3],dtype=np.complex64)\n",
    "\n",
    "# define number of available threads:\n",
    "numthreads = 4\n",
    "\n",
    "def shg_iters(data,pp_mismatch_array,L_array,pump_energy_array,wg,t,f_ref,f2,kk,jj,qq):\n",
    "    \n",
    "    pp_mismatch = pp_mismatch_array[qq]\n",
    "    L = L_array[kk]\n",
    "    E2 = pump_energy_array[jj]\n",
    "    \n",
    "    # =======================================================================\n",
    "    # ======== Length, nonlinear coefficients, loss, poling =================\n",
    "    # =======================================================================\n",
    "                                                                                  \n",
    "    #L = 5*mm # ******parameter to vary ~2 to 15 mm******\n",
    "    #pp_mismatch = 0*nm # ******parameter to vary ~ -50 to 50 nm******\n",
    "                                                                                                \n",
    "    pp = pp_shg  + pp_mismatch\n",
    "\n",
    "    def poling_func(z):\n",
    "        return np.sign( np.sin(z*2*pi/pp) )\n",
    "\n",
    "    Alpha = 0.1 # attentuation coefficient (dB/cm)\n",
    "    alpha = np.log((10**(Alpha * 0.1))) * 100  # convert from dB/cm to 1/m\n",
    "\n",
    "    X0 = 1.1e-12 * 0.75\n",
    "\n",
    "    wg.add_poling(poling_func)\n",
    "    wg.set_nonlinear_coeffs(N = 1,  X0=X0)\n",
    "    wg.set_length(L)\n",
    "    wg.set_loss(alpha)\n",
    "\n",
    "\n",
    "    # =======================================================================\n",
    "    # ========================== Input Pulse ================================\n",
    "    # =======================================================================\n",
    "    #E2 = 5*fJ # pump energy ******parameter to vary ~fJ to few pJ******\n",
    "\n",
    "    τ2 = 35*fs # pump pulse width\n",
    "\n",
    "    frep = 250*MHz #Repetition rate\n",
    "    N_dB = 100 #Noise level (relative to the pulse peak)\n",
    "\n",
    "    a2 = pulses.sech_pulse(t, τ2, Energy=E2, f_ref=f_ref, f0=f2, Npwr_dB=N_dB, frep=frep) # pump pulse\n",
    "\n",
    "    # check to make sure signal and pump are both well contained in the frequency window\n",
    "\n",
    "    # pump\n",
    "    #fig1, (ax1, ax2) = plt.subplots(1, 2, figsize=(15, 5), tight_layout=True)\n",
    "    #ax1 = a2.plot_magsq(ax=ax1, t_unit='ps')\n",
    "    #ax2 = a2.plot_spectrum(ax=ax2, f_unit='nm')\n",
    "\n",
    "\n",
    "    # ===================================================================  ======\n",
    "    # ====================== Single Pass ======================================\n",
    "    # =========================================================================\n",
    "    Tsim = 25\n",
    "    v_ref = 1/wg.beta1(λ2, T=Tsim)\n",
    "    a_in = a2\n",
    "\n",
    "    [a_out, evol_steps] = wg.propagate_NEE(a_in, Kg=0, v_ref=v_ref, zcheck_step = 1*mm, T=Tsim) # ******a_out is output data******\n",
    "\n",
    "    print('Input pulse energy = %0.3f pJ' %(a_in.energy_td()/pJ))\n",
    "    print('Output pulse energy = %0.3f pJ' %(a_out.energy_td()/pJ))\n",
    "\n",
    "    a_out.plot_magsq()\n",
    "    a_out.plot_spectrum()\n",
    "\n",
    "    # =========================================================================\n",
    "    # ====================== Save Data in .csv ================================\n",
    "    # =========================================================================\n",
    "    # Select output data for saving\n",
    "            \n",
    "    # wavelength_axis = c/a_out.f_abs/um  # Wavelength axis in micrometer (um)\n",
    "    # spectral_power_spectrum = a_out.spectrum(a_out.df)  # power spectrum in dBm in wavelength axis\n",
    "    time_axis = a_out.t/ps  # Time axis in picoseconds (ps)\n",
    "    output_field = a_out.a  # output pulse\n",
    "    input_field = a2.a  # input pulse\n",
    "            \n",
    "    # updating input parameters\n",
    "    poling_region_length = np.array(L/mm,dtype=np.complex64)\n",
    "    poling_period_mismatch = np.array(pp_mismatch/nm,dtype=np.complex64)\n",
    "    pump_energy = np.array(E2/fJ,dtype=np.complex64)\n",
    "    \n",
    "    nt = len(output_field)\n",
    "    \n",
    "    # add values to the data array\n",
    "    data[kk*len(pp_mismatch_array)*len(pump_energy_array)+jj*len(pump_energy_array)+qq,0] = poling_region_length;\n",
    "    data[kk*len(pp_mismatch_array)*len(pump_energy_array)+jj*len(pump_energy_array)+qq,1] = poling_period_mismatch;\n",
    "    data[kk*len(pp_mismatch_array)*len(pump_energy_array)+jj*len(pump_energy_array)+qq,2] = pump_energy;\n",
    "    data[kk*len(pp_mismatch_array)*len(pump_energy_array)+jj*len(pump_energy_array)+qq,3:(nt+3)] = input_field;\n",
    "    data[kk*len(pp_mismatch_array)*len(pump_energy_array)+jj*len(pump_energy_array)+qq,(nt+4):] = output_field;\n",
    "    \n",
    "\n",
    "with concurrent.futures.ThreadPoolExecutor(max_workers=numthreads) as executor:\n",
    "    future = [executor.submit(shg_iters,data,pp_mismatch_array,L_array,pump_energy_array,wg,t,f_ref,f2,kk,jj,qq) for kk in range(len(L_array)) for jj in range(len(pp_mismatch_array)) for qq in range(len(pump_energy_array))]\n",
    "                                                                                                \n",
    "# Define the column headers\n",
    "\n",
    "columns = ['Poling Region Length (mm)', 'Poling Period Mismatch (nm)', 'Pump Energy (fJ)'] + [f'Input_{i}' for i in range(N)] + [f'Output_{i}' for i in range(N)]\n",
    "\n",
    "# Create a DataFrame from the data\n",
    "df = pd.DataFrame(data, columns=columns)\n",
    "\n",
    "# Save the DataFrame to a CSV file\n",
    "csv_file_path = 'SHG_output.csv'\n",
    "df.to_csv(csv_file_path, index=False)\n",
    "\n",
    "print(f\"Data saved to {csv_file_path}\")"
   ]
  },
  {
   "cell_type": "code",
   "execution_count": null,
   "metadata": {},
   "outputs": [],
   "source": []
  }
 ],
 "metadata": {
  "kernelspec": {
   "display_name": "Python 3",
   "language": "python",
   "name": "python3"
  },
  "language_info": {
   "codemirror_mode": {
    "name": "ipython",
    "version": 3
   },
   "file_extension": ".py",
   "mimetype": "text/x-python",
   "name": "python",
   "nbconvert_exporter": "python",
   "pygments_lexer": "ipython3",
   "version": "3.7.6"
  }
 },
 "nbformat": 4,
 "nbformat_minor": 4
}
